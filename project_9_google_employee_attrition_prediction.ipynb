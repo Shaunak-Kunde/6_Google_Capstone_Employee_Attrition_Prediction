{
 "cells": [
  {
   "cell_type": "markdown",
   "metadata": {
    "id": "lnRdR6eacUkK"
   },
   "source": [
    "### Familiarize yourself with the HR dataset\n",
    "\n",
    "The dataset that you'll be using in this lab contains 15,000 rows and 10 columns for the variables listed below. \n",
    "\n",
    "**Note:** you don't need to download any data to complete this lab. For more information about the data, refer to its source on [Kaggle](https://www.kaggle.com/datasets/mfaisalqureshi/hr-analytics-and-job-prediction?select=HR_comma_sep.csv).\n",
    "\n",
    "Variable  |Description |\n",
    "-----|-----|\n",
    "satisfaction_level|Employee-reported job satisfaction level [0&ndash;1]|\n",
    "last_evaluation|Score of employee's last performance review [0&ndash;1]|\n",
    "number_project|Number of projects employee contributes to|\n",
    "average_monthly_hours|Average number of hours employee worked per month|\n",
    "time_spend_company|How long the employee has been with the company (years)\n",
    "Work_accident|Whether or not the employee experienced an accident while at work\n",
    "left|Whether or not the employee left the company\n",
    "promotion_last_5years|Whether or not the employee was promoted in the last 5 years\n",
    "Department|The employee's department\n",
    "salary|The employee's salary (U.S. dollars)"
   ]
  },
  {
   "cell_type": "markdown",
   "metadata": {
    "id": "EAfj2mxlHyO3"
   },
   "source": [
    "Hi I am Shaunak Kunde. I have undertaken this capstone project in Data Analytics assigned by Google and provided by Coursera. Here, let us understand the case. The HR Department at Salifort Motors is a major stakeholder. My goals in this project is to analyze the data collected by the HR department and to build a model that predicts whether or not an employee will leave the company. I used the Kaggle dataset HR Analytics Job prediction https://www.kaggle.com/datasets/mfaisalqureshi/hr-analytics-and-job-prediction?select=HR_comma_sep.csv Right now no ethical issues. My initial observations (as found from kaggle analytics) are....very few got promoted, maximum people spend around three years in this company. Many employees handle around 4 projects each. but satisfaction level is generally on a higher side. "
   ]
  },
  {
   "cell_type": "markdown",
   "metadata": {
    "id": "Dfnvw1HZsfbd"
   },
   "source": [
    "## Step 1. Imports\n",
    "\n",
    "*   Import packages\n",
    "*   Load dataset\n",
    "\n"
   ]
  },
  {
   "cell_type": "markdown",
   "metadata": {
    "id": "51UAXIOLC_8P"
   },
   "source": [
    "### Import packages"
   ]
  },
  {
   "cell_type": "code",
   "execution_count": 1,
   "metadata": {
    "id": "hVWGpX9As4e1"
   },
   "outputs": [],
   "source": [
    "#Import packages\n",
    "import pandas as pd"
   ]
  },
  {
   "cell_type": "markdown",
   "metadata": {
    "id": "zM2P9yLWDIjN"
   },
   "source": [
    "### Load dataset\n",
    "\n",
    "`Pandas` is used to read a dataset called **`HR_capstone_dataset.csv`.**  As shown in this cell, the dataset has been automatically loaded in for you. You do not need to download the .csv file, or provide more code, in order to access the dataset and proceed with this lab. Please continue with this activity by completing the following instructions."
   ]
  },
  {
   "cell_type": "code",
   "execution_count": 2,
   "metadata": {
    "id": "Bs0cJR5BDPgQ"
   },
   "outputs": [
    {
     "data": {
      "text/html": [
       "<div>\n",
       "<style scoped>\n",
       "    .dataframe tbody tr th:only-of-type {\n",
       "        vertical-align: middle;\n",
       "    }\n",
       "\n",
       "    .dataframe tbody tr th {\n",
       "        vertical-align: top;\n",
       "    }\n",
       "\n",
       "    .dataframe thead th {\n",
       "        text-align: right;\n",
       "    }\n",
       "</style>\n",
       "<table border=\"1\" class=\"dataframe\">\n",
       "  <thead>\n",
       "    <tr style=\"text-align: right;\">\n",
       "      <th></th>\n",
       "      <th>satisfaction_level</th>\n",
       "      <th>last_evaluation</th>\n",
       "      <th>number_project</th>\n",
       "      <th>average_montly_hours</th>\n",
       "      <th>time_spend_company</th>\n",
       "      <th>Work_accident</th>\n",
       "      <th>left</th>\n",
       "      <th>promotion_last_5years</th>\n",
       "      <th>Department</th>\n",
       "      <th>salary</th>\n",
       "    </tr>\n",
       "  </thead>\n",
       "  <tbody>\n",
       "    <tr>\n",
       "      <th>0</th>\n",
       "      <td>0.38</td>\n",
       "      <td>0.53</td>\n",
       "      <td>2</td>\n",
       "      <td>157</td>\n",
       "      <td>3</td>\n",
       "      <td>0</td>\n",
       "      <td>1</td>\n",
       "      <td>0</td>\n",
       "      <td>sales</td>\n",
       "      <td>low</td>\n",
       "    </tr>\n",
       "    <tr>\n",
       "      <th>1</th>\n",
       "      <td>0.80</td>\n",
       "      <td>0.86</td>\n",
       "      <td>5</td>\n",
       "      <td>262</td>\n",
       "      <td>6</td>\n",
       "      <td>0</td>\n",
       "      <td>1</td>\n",
       "      <td>0</td>\n",
       "      <td>sales</td>\n",
       "      <td>medium</td>\n",
       "    </tr>\n",
       "    <tr>\n",
       "      <th>2</th>\n",
       "      <td>0.11</td>\n",
       "      <td>0.88</td>\n",
       "      <td>7</td>\n",
       "      <td>272</td>\n",
       "      <td>4</td>\n",
       "      <td>0</td>\n",
       "      <td>1</td>\n",
       "      <td>0</td>\n",
       "      <td>sales</td>\n",
       "      <td>medium</td>\n",
       "    </tr>\n",
       "    <tr>\n",
       "      <th>3</th>\n",
       "      <td>0.72</td>\n",
       "      <td>0.87</td>\n",
       "      <td>5</td>\n",
       "      <td>223</td>\n",
       "      <td>5</td>\n",
       "      <td>0</td>\n",
       "      <td>1</td>\n",
       "      <td>0</td>\n",
       "      <td>sales</td>\n",
       "      <td>low</td>\n",
       "    </tr>\n",
       "    <tr>\n",
       "      <th>4</th>\n",
       "      <td>0.37</td>\n",
       "      <td>0.52</td>\n",
       "      <td>2</td>\n",
       "      <td>159</td>\n",
       "      <td>3</td>\n",
       "      <td>0</td>\n",
       "      <td>1</td>\n",
       "      <td>0</td>\n",
       "      <td>sales</td>\n",
       "      <td>low</td>\n",
       "    </tr>\n",
       "  </tbody>\n",
       "</table>\n",
       "</div>"
      ],
      "text/plain": [
       "   satisfaction_level  last_evaluation  number_project  average_montly_hours  \\\n",
       "0                0.38             0.53               2                   157   \n",
       "1                0.80             0.86               5                   262   \n",
       "2                0.11             0.88               7                   272   \n",
       "3                0.72             0.87               5                   223   \n",
       "4                0.37             0.52               2                   159   \n",
       "\n",
       "   time_spend_company  Work_accident  left  promotion_last_5years Department  \\\n",
       "0                   3              0     1                      0      sales   \n",
       "1                   6              0     1                      0      sales   \n",
       "2                   4              0     1                      0      sales   \n",
       "3                   5              0     1                      0      sales   \n",
       "4                   3              0     1                      0      sales   \n",
       "\n",
       "   salary  \n",
       "0     low  \n",
       "1  medium  \n",
       "2  medium  \n",
       "3     low  \n",
       "4     low  "
      ]
     },
     "execution_count": 2,
     "metadata": {},
     "output_type": "execute_result"
    }
   ],
   "source": [
    "# RUN THIS CELL TO IMPORT YOUR DATA. \n",
    "\n",
    "# Load dataset into a dataframe_shaunak\n",
    "df0 = pd.read_csv(\"HR_capstone_dataset.csv\")\n",
    "# Display first few rows of the dataframe\n",
    "df0.head()\n"
   ]
  },
  {
   "cell_type": "markdown",
   "metadata": {
    "id": "wF_LLorPs5G_"
   },
   "source": [
    "## Step 2. Data Exploration (Initial EDA and data cleaning)\n",
    "\n",
    "- Understand your variables\n",
    "- Clean your dataset (missing data, redundant data, outliers)\n",
    "\n"
   ]
  },
  {
   "cell_type": "markdown",
   "metadata": {
    "id": "3LF6h1v9FYz2"
   },
   "source": [
    "### Gather basic information about the data"
   ]
  },
  {
   "cell_type": "code",
   "execution_count": 5,
   "metadata": {
    "id": "6XbfdPoKurMf"
   },
   "outputs": [
    {
     "data": {
      "text/plain": [
       "satisfaction_level       0\n",
       "last_evaluation          0\n",
       "number_project           0\n",
       "average_montly_hours     0\n",
       "time_spend_company       0\n",
       "Work_accident            0\n",
       "left                     0\n",
       "promotion_last_5years    0\n",
       "Department               0\n",
       "salary                   0\n",
       "dtype: int64"
      ]
     },
     "execution_count": 5,
     "metadata": {},
     "output_type": "execute_result"
    }
   ],
   "source": [
    "# Gather basic information about the data_shaunak\n",
    "df0.isnull().sum()"
   ]
  },
  {
   "cell_type": "markdown",
   "metadata": {
    "id": "6JMl_rQ1Fgte"
   },
   "source": [
    "### Gather descriptive statistics about the data"
   ]
  },
  {
   "cell_type": "code",
   "execution_count": 7,
   "metadata": {
    "id": "_5VRL-kzE8y1"
   },
   "outputs": [
    {
     "data": {
      "text/html": [
       "<div>\n",
       "<style scoped>\n",
       "    .dataframe tbody tr th:only-of-type {\n",
       "        vertical-align: middle;\n",
       "    }\n",
       "\n",
       "    .dataframe tbody tr th {\n",
       "        vertical-align: top;\n",
       "    }\n",
       "\n",
       "    .dataframe thead th {\n",
       "        text-align: right;\n",
       "    }\n",
       "</style>\n",
       "<table border=\"1\" class=\"dataframe\">\n",
       "  <thead>\n",
       "    <tr style=\"text-align: right;\">\n",
       "      <th></th>\n",
       "      <th>satisfaction_level</th>\n",
       "      <th>last_evaluation</th>\n",
       "      <th>number_project</th>\n",
       "      <th>average_montly_hours</th>\n",
       "      <th>time_spend_company</th>\n",
       "      <th>Work_accident</th>\n",
       "      <th>left</th>\n",
       "      <th>promotion_last_5years</th>\n",
       "    </tr>\n",
       "  </thead>\n",
       "  <tbody>\n",
       "    <tr>\n",
       "      <th>count</th>\n",
       "      <td>14999.000000</td>\n",
       "      <td>14999.000000</td>\n",
       "      <td>14999.000000</td>\n",
       "      <td>14999.000000</td>\n",
       "      <td>14999.000000</td>\n",
       "      <td>14999.000000</td>\n",
       "      <td>14999.000000</td>\n",
       "      <td>14999.000000</td>\n",
       "    </tr>\n",
       "    <tr>\n",
       "      <th>mean</th>\n",
       "      <td>0.612834</td>\n",
       "      <td>0.716102</td>\n",
       "      <td>3.803054</td>\n",
       "      <td>201.050337</td>\n",
       "      <td>3.498233</td>\n",
       "      <td>0.144610</td>\n",
       "      <td>0.238083</td>\n",
       "      <td>0.021268</td>\n",
       "    </tr>\n",
       "    <tr>\n",
       "      <th>std</th>\n",
       "      <td>0.248631</td>\n",
       "      <td>0.171169</td>\n",
       "      <td>1.232592</td>\n",
       "      <td>49.943099</td>\n",
       "      <td>1.460136</td>\n",
       "      <td>0.351719</td>\n",
       "      <td>0.425924</td>\n",
       "      <td>0.144281</td>\n",
       "    </tr>\n",
       "    <tr>\n",
       "      <th>min</th>\n",
       "      <td>0.090000</td>\n",
       "      <td>0.360000</td>\n",
       "      <td>2.000000</td>\n",
       "      <td>96.000000</td>\n",
       "      <td>2.000000</td>\n",
       "      <td>0.000000</td>\n",
       "      <td>0.000000</td>\n",
       "      <td>0.000000</td>\n",
       "    </tr>\n",
       "    <tr>\n",
       "      <th>25%</th>\n",
       "      <td>0.440000</td>\n",
       "      <td>0.560000</td>\n",
       "      <td>3.000000</td>\n",
       "      <td>156.000000</td>\n",
       "      <td>3.000000</td>\n",
       "      <td>0.000000</td>\n",
       "      <td>0.000000</td>\n",
       "      <td>0.000000</td>\n",
       "    </tr>\n",
       "    <tr>\n",
       "      <th>50%</th>\n",
       "      <td>0.640000</td>\n",
       "      <td>0.720000</td>\n",
       "      <td>4.000000</td>\n",
       "      <td>200.000000</td>\n",
       "      <td>3.000000</td>\n",
       "      <td>0.000000</td>\n",
       "      <td>0.000000</td>\n",
       "      <td>0.000000</td>\n",
       "    </tr>\n",
       "    <tr>\n",
       "      <th>75%</th>\n",
       "      <td>0.820000</td>\n",
       "      <td>0.870000</td>\n",
       "      <td>5.000000</td>\n",
       "      <td>245.000000</td>\n",
       "      <td>4.000000</td>\n",
       "      <td>0.000000</td>\n",
       "      <td>0.000000</td>\n",
       "      <td>0.000000</td>\n",
       "    </tr>\n",
       "    <tr>\n",
       "      <th>max</th>\n",
       "      <td>1.000000</td>\n",
       "      <td>1.000000</td>\n",
       "      <td>7.000000</td>\n",
       "      <td>310.000000</td>\n",
       "      <td>10.000000</td>\n",
       "      <td>1.000000</td>\n",
       "      <td>1.000000</td>\n",
       "      <td>1.000000</td>\n",
       "    </tr>\n",
       "  </tbody>\n",
       "</table>\n",
       "</div>"
      ],
      "text/plain": [
       "       satisfaction_level  last_evaluation  number_project  \\\n",
       "count        14999.000000     14999.000000    14999.000000   \n",
       "mean             0.612834         0.716102        3.803054   \n",
       "std              0.248631         0.171169        1.232592   \n",
       "min              0.090000         0.360000        2.000000   \n",
       "25%              0.440000         0.560000        3.000000   \n",
       "50%              0.640000         0.720000        4.000000   \n",
       "75%              0.820000         0.870000        5.000000   \n",
       "max              1.000000         1.000000        7.000000   \n",
       "\n",
       "       average_montly_hours  time_spend_company  Work_accident          left  \\\n",
       "count          14999.000000        14999.000000   14999.000000  14999.000000   \n",
       "mean             201.050337            3.498233       0.144610      0.238083   \n",
       "std               49.943099            1.460136       0.351719      0.425924   \n",
       "min               96.000000            2.000000       0.000000      0.000000   \n",
       "25%              156.000000            3.000000       0.000000      0.000000   \n",
       "50%              200.000000            3.000000       0.000000      0.000000   \n",
       "75%              245.000000            4.000000       0.000000      0.000000   \n",
       "max              310.000000           10.000000       1.000000      1.000000   \n",
       "\n",
       "       promotion_last_5years  \n",
       "count           14999.000000  \n",
       "mean                0.021268  \n",
       "std                 0.144281  \n",
       "min                 0.000000  \n",
       "25%                 0.000000  \n",
       "50%                 0.000000  \n",
       "75%                 0.000000  \n",
       "max                 1.000000  "
      ]
     },
     "execution_count": 7,
     "metadata": {},
     "output_type": "execute_result"
    }
   ],
   "source": [
    "# Gather descriptive statistics about the data_shaunak\n",
    "df0_cleaned = df0.dropna()\n",
    "df0_cleaned.describe()\n",
    "\n"
   ]
  },
  {
   "cell_type": "markdown",
   "metadata": {
    "id": "QR7eFNU0FklJ"
   },
   "source": [
    "### Rename columns"
   ]
  },
  {
   "cell_type": "markdown",
   "metadata": {
    "id": "_TtE0JLPJyLF"
   },
   "source": [
    "As a data cleaning step, rename the columns as needed. Standardize the column names so that they are all in `snake_case`, correct any column names that are misspelled, and make column names more concise as needed."
   ]
  },
  {
   "cell_type": "code",
   "execution_count": 8,
   "metadata": {
    "id": "kEn21u2bqrEI"
   },
   "outputs": [
    {
     "name": "stdout",
     "output_type": "stream",
     "text": [
      "['satisfaction_level', 'last_evaluation', 'number_project', 'average_montly_hours', 'time_spend_company', 'Work_accident', 'left', 'promotion_last_5years', 'Department', 'salary']\n"
     ]
    }
   ],
   "source": [
    "# Display all column names_shaunak\n",
    "print(df0.columns.tolist())\n"
   ]
  },
  {
   "cell_type": "code",
   "execution_count": 9,
   "metadata": {
    "id": "npUQA8jMFJQD"
   },
   "outputs": [
    {
     "name": "stdout",
     "output_type": "stream",
     "text": [
      "['satisfaction_level', 'last_evaluation', 'number_project', 'average_montly_hours', 'time_spend_company', 'work_accident', 'left', 'promotion_last_5years', 'department', 'salary']\n"
     ]
    }
   ],
   "source": [
    "# Rename columns as needed_shaunak\n",
    "df0.columns = df0.columns.str.strip().str.lower().str.replace(' ', '_').str.replace('-', '_')\n",
    "df0.rename(columns={\n",
    "    'employee_number': 'emp_num',\n",
    "    'years_at_company': 'tenure',\n",
    "    'job_role': 'role',\n",
    "    'monthly_income': 'income'\n",
    "}, inplace=True)\n",
    "\n",
    "# Display all column names after the update\n",
    "print(df0.columns.tolist())"
   ]
  },
  {
   "cell_type": "markdown",
   "metadata": {
    "id": "e-G2QlQxBq__"
   },
   "source": [
    "### Check missing values"
   ]
  },
  {
   "cell_type": "markdown",
   "metadata": {
    "id": "GeiUUqeaBt-I"
   },
   "source": [
    "Check for any missing values in the data."
   ]
  },
  {
   "cell_type": "code",
   "execution_count": 10,
   "metadata": {
    "id": "EN9MvN0GByVV"
   },
   "outputs": [
    {
     "name": "stdout",
     "output_type": "stream",
     "text": [
      "satisfaction_level       0\n",
      "last_evaluation          0\n",
      "number_project           0\n",
      "average_montly_hours     0\n",
      "time_spend_company       0\n",
      "work_accident            0\n",
      "left                     0\n",
      "promotion_last_5years    0\n",
      "department               0\n",
      "salary                   0\n",
      "dtype: int64\n"
     ]
    }
   ],
   "source": [
    "# Check for missing values_shaunak\n",
    "print(df0.isnull().sum())\n"
   ]
  },
  {
   "cell_type": "markdown",
   "metadata": {
    "id": "hBvrijItKQI9"
   },
   "source": [
    "### Check duplicates"
   ]
  },
  {
   "cell_type": "markdown",
   "metadata": {
    "id": "Q7ystBsdsGaL"
   },
   "source": [
    "Check for any duplicate entries in the data."
   ]
  },
  {
   "cell_type": "code",
   "execution_count": 11,
   "metadata": {
    "id": "CFFLc5AOZ7-x"
   },
   "outputs": [
    {
     "name": "stdout",
     "output_type": "stream",
     "text": [
      "Number of duplicate rows: 3008\n"
     ]
    }
   ],
   "source": [
    "# Check for duplicates_shaunak\n",
    "duplicate_rows = df0[df0.duplicated()]\n",
    "print(f\"Number of duplicate rows: {duplicate_rows.shape[0]}\")\n"
   ]
  },
  {
   "cell_type": "code",
   "execution_count": 12,
   "metadata": {
    "id": "ZHGlDbKAcBLM"
   },
   "outputs": [
    {
     "name": "stdout",
     "output_type": "stream",
     "text": [
      "      satisfaction_level  last_evaluation  number_project  \\\n",
      "396                 0.46             0.57               2   \n",
      "866                 0.41             0.46               2   \n",
      "1317                0.37             0.51               2   \n",
      "1368                0.41             0.52               2   \n",
      "1461                0.42             0.53               2   \n",
      "\n",
      "      average_montly_hours  time_spend_company  work_accident  left  \\\n",
      "396                    139                   3              0     1   \n",
      "866                    128                   3              0     1   \n",
      "1317                   127                   3              0     1   \n",
      "1368                   132                   3              0     1   \n",
      "1461                   142                   3              0     1   \n",
      "\n",
      "      promotion_last_5years  department  salary  \n",
      "396                       0       sales     low  \n",
      "866                       0  accounting     low  \n",
      "1317                      0       sales  medium  \n",
      "1368                      0       RandD     low  \n",
      "1461                      0       sales     low  \n"
     ]
    }
   ],
   "source": [
    "# Inspect some rows containing duplicates as needed_shaunak\n",
    "print(duplicate_rows.head())\n"
   ]
  },
  {
   "cell_type": "code",
   "execution_count": 14,
   "metadata": {
    "id": "wCr34Rppdjay"
   },
   "outputs": [
    {
     "data": {
      "text/html": [
       "<div>\n",
       "<style scoped>\n",
       "    .dataframe tbody tr th:only-of-type {\n",
       "        vertical-align: middle;\n",
       "    }\n",
       "\n",
       "    .dataframe tbody tr th {\n",
       "        vertical-align: top;\n",
       "    }\n",
       "\n",
       "    .dataframe thead th {\n",
       "        text-align: right;\n",
       "    }\n",
       "</style>\n",
       "<table border=\"1\" class=\"dataframe\">\n",
       "  <thead>\n",
       "    <tr style=\"text-align: right;\">\n",
       "      <th></th>\n",
       "      <th>satisfaction_level</th>\n",
       "      <th>last_evaluation</th>\n",
       "      <th>number_project</th>\n",
       "      <th>average_montly_hours</th>\n",
       "      <th>time_spend_company</th>\n",
       "      <th>work_accident</th>\n",
       "      <th>left</th>\n",
       "      <th>promotion_last_5years</th>\n",
       "      <th>department</th>\n",
       "      <th>salary</th>\n",
       "    </tr>\n",
       "  </thead>\n",
       "  <tbody>\n",
       "    <tr>\n",
       "      <th>0</th>\n",
       "      <td>0.38</td>\n",
       "      <td>0.53</td>\n",
       "      <td>2</td>\n",
       "      <td>157</td>\n",
       "      <td>3</td>\n",
       "      <td>0</td>\n",
       "      <td>1</td>\n",
       "      <td>0</td>\n",
       "      <td>sales</td>\n",
       "      <td>low</td>\n",
       "    </tr>\n",
       "    <tr>\n",
       "      <th>1</th>\n",
       "      <td>0.80</td>\n",
       "      <td>0.86</td>\n",
       "      <td>5</td>\n",
       "      <td>262</td>\n",
       "      <td>6</td>\n",
       "      <td>0</td>\n",
       "      <td>1</td>\n",
       "      <td>0</td>\n",
       "      <td>sales</td>\n",
       "      <td>medium</td>\n",
       "    </tr>\n",
       "    <tr>\n",
       "      <th>2</th>\n",
       "      <td>0.11</td>\n",
       "      <td>0.88</td>\n",
       "      <td>7</td>\n",
       "      <td>272</td>\n",
       "      <td>4</td>\n",
       "      <td>0</td>\n",
       "      <td>1</td>\n",
       "      <td>0</td>\n",
       "      <td>sales</td>\n",
       "      <td>medium</td>\n",
       "    </tr>\n",
       "    <tr>\n",
       "      <th>3</th>\n",
       "      <td>0.72</td>\n",
       "      <td>0.87</td>\n",
       "      <td>5</td>\n",
       "      <td>223</td>\n",
       "      <td>5</td>\n",
       "      <td>0</td>\n",
       "      <td>1</td>\n",
       "      <td>0</td>\n",
       "      <td>sales</td>\n",
       "      <td>low</td>\n",
       "    </tr>\n",
       "    <tr>\n",
       "      <th>4</th>\n",
       "      <td>0.37</td>\n",
       "      <td>0.52</td>\n",
       "      <td>2</td>\n",
       "      <td>159</td>\n",
       "      <td>3</td>\n",
       "      <td>0</td>\n",
       "      <td>1</td>\n",
       "      <td>0</td>\n",
       "      <td>sales</td>\n",
       "      <td>low</td>\n",
       "    </tr>\n",
       "  </tbody>\n",
       "</table>\n",
       "</div>"
      ],
      "text/plain": [
       "   satisfaction_level  last_evaluation  number_project  average_montly_hours  \\\n",
       "0                0.38             0.53               2                   157   \n",
       "1                0.80             0.86               5                   262   \n",
       "2                0.11             0.88               7                   272   \n",
       "3                0.72             0.87               5                   223   \n",
       "4                0.37             0.52               2                   159   \n",
       "\n",
       "   time_spend_company  work_accident  left  promotion_last_5years department  \\\n",
       "0                   3              0     1                      0      sales   \n",
       "1                   6              0     1                      0      sales   \n",
       "2                   4              0     1                      0      sales   \n",
       "3                   5              0     1                      0      sales   \n",
       "4                   3              0     1                      0      sales   \n",
       "\n",
       "   salary  \n",
       "0     low  \n",
       "1  medium  \n",
       "2  medium  \n",
       "3     low  \n",
       "4     low  "
      ]
     },
     "execution_count": 14,
     "metadata": {},
     "output_type": "execute_result"
    }
   ],
   "source": [
    "# Drop duplicates and save resulting dataframe in a new variable as needed_shaunak\n",
    "df_cleaned = df0.drop_duplicates()\n",
    "\n",
    "\n",
    "# Display first few rows of new dataframe as needed\n",
    "df_cleaned.head()\n"
   ]
  },
  {
   "cell_type": "markdown",
   "metadata": {
    "id": "4knHIoTIFu83"
   },
   "source": [
    "### Check outliers"
   ]
  },
  {
   "cell_type": "markdown",
   "metadata": {
    "id": "EaVx2fk8GC_m"
   },
   "source": [
    "Check for outliers in the data."
   ]
  },
  {
   "cell_type": "code",
   "execution_count": 16,
   "metadata": {
    "id": "pilaGYgh4LHM"
   },
   "outputs": [
    {
     "data": {
      "image/png": "[encoded data removed]",
      "text/plain": [
       "<Figure size 576x288 with 1 Axes>"
      ]
     },
     "metadata": {
      "needs_background": "light"
     },
     "output_type": "display_data"
    }
   ],
   "source": [
    "# Create a boxplot to visualize distribution of `tenure` and detect any outliers_shaunak\n",
    "import matplotlib.pyplot as plt\n",
    "import seaborn as sns\n",
    "\n",
    "# Create boxplot\n",
    "plt.figure(figsize=(8, 4))\n",
    "sns.boxplot(x=df_cleaned['time_spend_company'])\n",
    "plt.title('Boxplot of Tenure')\n",
    "plt.xlabel('Tenure (Years)')\n",
    "plt.show()\n",
    "\n"
   ]
  },
  {
   "cell_type": "code",
   "execution_count": 18,
   "metadata": {
    "id": "ohctgiHyFykI"
   },
   "outputs": [
    {
     "name": "stdout",
     "output_type": "stream",
     "text": [
      "Number of outlier rows in 'tenure': 824\n"
     ]
    }
   ],
   "source": [
    "# Determine the number of rows containing outliers_shaunak\n",
    "Q1 = df_cleaned['time_spend_company'].quantile(0.25)\n",
    "Q3 = df_cleaned['time_spend_company'].quantile(0.75)\n",
    "IQR = Q3 - Q1\n",
    "lower_bound = Q1 - 1.5 * IQR\n",
    "upper_bound = Q3 + 1.5 * IQR\n",
    "outliers = df_cleaned[(df_cleaned['time_spend_company'] < lower_bound) | (df_cleaned['time_spend_company'] > upper_bound)]\n",
    "print(f\"Number of outlier rows in 'tenure': {outliers.shape[0]}\")\n"
   ]
  },
  {
   "cell_type": "markdown",
   "metadata": {
    "id": "eP_rPN31Kmx0"
   },
   "source": [
    "Certain types of models are more sensitive to outliers than others. When you get to the stage of building your model, consider whether to remove outliers, based on the type of model you decide to use."
   ]
  },
  {
   "cell_type": "markdown",
   "metadata": {
    "id": "mA7Mz_SnI8km"
   },
   "source": [
    "# pAce: Analyze Stage\n",
    "- Perform EDA (analyze relationships between variables)\n",
    "\n"
   ]
  },
  {
   "cell_type": "markdown",
   "metadata": {
    "id": "Gmk6oBT3jgbA"
   },
   "source": [
    "💭\n",
    "### Reflect on these questions as you complete the analyze stage.\n",
    "\n",
    "- What did you observe about the relationships between variables?\n",
    "- What do you observe about the distributions in the data?\n",
    "- What transformations did you make with your data? Why did you chose to make those decisions?\n",
    "- What are some purposes of EDA before constructing a predictive model?\n",
    "- What resources do you find yourself using as you complete this stage? (Make sure to include the links.)\n",
    "- Do you have any ethical considerations in this stage?\n",
    "\n",
    "\n"
   ]
  },
  {
   "cell_type": "markdown",
   "metadata": {
    "id": "mbosyCrJCWcd"
   },
   "source": [
    "Relationships:-Lower satisfaction, high workload, and low salary are strongly linked to employee attrition.\n",
    "Distributions are moxed, some are skewd binomial some are normal, also there are bimodal or two peaks.\n",
    "I transformed by checking null, removing nulls, renaming columns, removed duplicates and outliers to improve clarity and model quality. EDA helped understand data structure, detect patterns, and prepare for accurate modeling.\n",
    "I used pandas and kaggle till now. And the python notes prepared in my first semester of masters.\n",
    "As far as ethics is concerned, ensure data privacy so that PII is not revealed. Expect fairness and transparency."
   ]
  },
  {
   "cell_type": "markdown",
   "metadata": {
    "id": "KDcWrk57kao2"
   },
   "source": [
    "## Step 2. Data Exploration (Continue EDA)\n",
    "\n",
    "Begin by understanding how many employees left and what percentage of all employees this figure represents."
   ]
  },
  {
   "cell_type": "code",
   "execution_count": 27,
   "metadata": {},
   "outputs": [
    {
     "name": "stdout",
     "output_type": "stream",
     "text": [
      "0    10000\n",
      "1     1991\n",
      "Name: left, dtype: int64\n",
      "0    83.39588\n",
      "1    16.60412\n",
      "Name: left, dtype: float64\n"
     ]
    }
   ],
   "source": [
    "# Get numbers of people who left vs.stayed_shaunak\n",
    "left_counts = df_cleaned['left'].value_counts()\n",
    "print(left_counts)\n",
    "\n",
    "# Get percentages of people who left vs. stayed\n",
    "left_percentages = df_cleaned['left'].value_counts(normalize=True) * 100\n",
    "print(left_percentages)\n"
   ]
  },
  {
   "cell_type": "markdown",
   "metadata": {
    "id": "DmVMzXPSuYk1"
   },
   "source": [
    "### Data visualizations"
   ]
  },
  {
   "cell_type": "markdown",
   "metadata": {
    "id": "_hw4qkZzBr-W"
   },
   "source": [
    "Now, examine variables that you're interested in, and create plots to visualize relationships between variables in the data."
   ]
  },
  {
   "cell_type": "code",
   "execution_count": 30,
   "metadata": {
    "id": "Qf0VbjX8-DBQ"
   },
   "outputs": [
    {
     "data": {
      "image/png": "[encoded data removed]",
      "text/plain": [
       "<Figure size 432x288 with 1 Axes>"
      ]
     },
     "metadata": {
      "needs_background": "light"
     },
     "output_type": "display_data"
    }
   ],
   "source": [
    "# Create a plot as needed_shaunak\n",
    "import seaborn as sns\n",
    "import matplotlib.pyplot as plt\n",
    "\n",
    "sns.countplot(x='left', data=df_cleaned)\n",
    "plt.title('Number of Employees Who Left vs. Stayed')\n",
    "plt.xlabel('Left Company (0 = Stayed, 1 = Left)')\n",
    "plt.ylabel('Count')\n",
    "plt.show()\n"
   ]
  },
  {
   "cell_type": "code",
   "execution_count": 35,
   "metadata": {
    "id": "F8HlhjMy9X3A"
   },
   "outputs": [
    {
     "data": {
      "image/png": "[encoded data removed]",
      "text/plain": [
       "<Figure size 432x288 with 1 Axes>"
      ]
     },
     "metadata": {
      "needs_background": "light"
     },
     "output_type": "display_data"
    }
   ],
   "source": [
    "# Create a plot as needed\n",
    "sns.boxplot(x='left', y='satisfaction_level', data=df_cleaned)\n",
    "plt.title('Satisfaction Level by Attrition')\n",
    "plt.xlabel('Left Company')\n",
    "plt.ylabel('Satisfaction Level')\n",
    "plt.show()\n"
   ]
  },
  {
   "cell_type": "code",
   "execution_count": 36,
   "metadata": {
    "id": "NUyBruMee-EI"
   },
   "outputs": [
    {
     "data": {
      "image/png": "[encoded data removed]",
      "text/plain": [
       "<Figure size 432x288 with 1 Axes>"
      ]
     },
     "metadata": {
      "needs_background": "light"
     },
     "output_type": "display_data"
    }
   ],
   "source": [
    "# Create a plot as needed\n",
    "sns.boxplot(x='left', y='average_montly_hours', data=df_cleaned)\n",
    "plt.title('Average Montly Hours by Attrition')\n",
    "plt.xlabel('Left Company')\n",
    "plt.ylabel('Avg Monthly Hours')\n",
    "plt.show()\n"
   ]
  },
  {
   "cell_type": "code",
   "execution_count": 39,
   "metadata": {
    "id": "3v1uJR5y3MEy"
   },
   "outputs": [
    {
     "data": {
      "image/png": "[encoded data removed]",
      "text/plain": [
       "<Figure size 432x288 with 1 Axes>"
      ]
     },
     "metadata": {
      "needs_background": "light"
     },
     "output_type": "display_data"
    }
   ],
   "source": [
    "# Create a plot as needed\n",
    "sns.boxplot(x='left', y='number_project', data=df_cleaned)\n",
    "plt.title('Number of Projects by Attrition')\n",
    "plt.xlabel('Left Company')\n",
    "plt.ylabel('Number of Projects')\n",
    "plt.show()\n"
   ]
  },
  {
   "cell_type": "code",
   "execution_count": 40,
   "metadata": {
    "id": "UCVs81NILbhn"
   },
   "outputs": [
    {
     "data": {
      "image/png": "[encoded data removed]",
      "text/plain": [
       "<Figure size 432x288 with 1 Axes>"
      ]
     },
     "metadata": {
      "needs_background": "light"
     },
     "output_type": "display_data"
    }
   ],
   "source": [
    "# Create a plot as needed_shaunak\n",
    "sns.countplot(x='department', hue='left', data=df_cleaned)\n",
    "plt.xticks(rotation=45)\n",
    "plt.title('Attrition by Department')\n",
    "plt.xlabel('Department')\n",
    "plt.ylabel('Count')\n",
    "plt.show()\n"
   ]
  },
  {
   "cell_type": "code",
   "execution_count": 42,
   "metadata": {
    "id": "cGitCvzvdbjF"
   },
   "outputs": [
    {
     "data": {
      "image/png": "[encoded data removed]",
      "text/plain": [
       "<Figure size 432x288 with 1 Axes>"
      ]
     },
     "metadata": {
      "needs_background": "light"
     },
     "output_type": "display_data"
    }
   ],
   "source": [
    "# Create a plot as needed\n",
    "sns.countplot(x='salary', hue='left', data=df_cleaned, order=['low', 'medium', 'high'])\n",
    "plt.title('Attrition by Salary Level')\n",
    "plt.xlabel('Salary Level')\n",
    "plt.ylabel('Count')\n",
    "plt.show()\n"
   ]
  },
  {
   "cell_type": "code",
   "execution_count": 44,
   "metadata": {
    "id": "6TyBo1uxsSpc"
   },
   "outputs": [
    {
     "data": {
      "image/png": "[encoded data removed]",
      "text/plain": [
       "<Figure size 432x288 with 1 Axes>"
      ]
     },
     "metadata": {
      "needs_background": "light"
     },
     "output_type": "display_data"
    }
   ],
   "source": [
    "#_shaunak_Create a plot as needed\n",
    "sns.histplot(df_cleaned['time_spend_company'], bins=8, kde=True)\n",
    "plt.title('Distribution of Tenure')\n",
    "plt.xlabel('Years at Company')\n",
    "plt.ylabel('Number of Employees')\n",
    "plt.show()\n"
   ]
  },
  {
   "cell_type": "code",
   "execution_count": 46,
   "metadata": {
    "id": "lfo96dwwruZd"
   },
   "outputs": [
    {
     "data": {
      "image/png": "[encoded data removed]",
      "text/plain": [
       "<Figure size 720x432 with 2 Axes>"
      ]
     },
     "metadata": {
      "needs_background": "light"
     },
     "output_type": "display_data"
    }
   ],
   "source": [
    "# Create a plot as needed\n",
    "plt.figure(figsize=(10, 6))\n",
    "sns.heatmap(df_cleaned.corr(), annot=True, cmap='coolwarm')\n",
    "plt.title('Correlation Matrix')\n",
    "plt.show()\n"
   ]
  },
  {
   "cell_type": "markdown",
   "metadata": {
    "id": "DeTmNVlAANLd"
   },
   "source": [
    "### Insights"
   ]
  },
  {
   "cell_type": "markdown",
   "metadata": {
    "id": "sQT8YqymD-yL"
   },
   "source": [
    "What insights can you gather from the plots you created to visualize the data? \n",
    "strong correlation between satisfaction level and salary. Generally leave after 3 years. Low and medium salary employees leave more. Highest attrition in sales, tech and support department. Nearly 2000 employees out of nearly 12000 left in last 5 years."
   ]
  },
  {
   "cell_type": "markdown",
   "metadata": {
    "id": "Lca9c8XON8lc"
   },
   "source": [
    "# paCe: Construct Stage\n",
    "- Determine which models are most appropriate\n",
    "- Construct the model\n",
    "- Confirm model assumptions\n",
    "- Evaluate model results to determine how well your model fits the data\n"
   ]
  },
  {
   "cell_type": "markdown",
   "metadata": {
    "id": "Bf2BU6B1QmTg"
   },
   "source": [
    "🔎\n",
    "## Recall model assumptions\n",
    "\n",
    "**Logistic Regression model assumptions**\n",
    "- Outcome variable is categorical\n",
    "- Observations are independent of each other\n",
    "- No severe multicollinearity among X variables\n",
    "- No extreme outliers\n",
    "- Linear relationship between each X variable and the logit of the outcome variable\n",
    "- Sufficiently large sample size\n",
    "\n",
    "\n",
    "\n"
   ]
  },
  {
   "cell_type": "markdown",
   "metadata": {
    "id": "F3v7IVv2_ai5"
   },
   "source": [
    "💭\n",
    "### Reflect on these questions as you complete the constructing stage.\n",
    "\n",
    "- Do you notice anything odd?\n",
    "- Which independent variables did you choose for the model and why?\n",
    "- Are each of the assumptions met?\n",
    "- How well does your model fit the data?\n",
    "- Can you improve it? Is there anything you would change about the model?\n",
    "- What resources do you find yourself using as you complete this stage? (Make sure to include the links.)\n",
    "- Do you have any ethical considerations in this stage?\n",
    "\n"
   ]
  },
  {
   "cell_type": "markdown",
   "metadata": {
    "id": "moS7voiMOW67"
   },
   "source": [
    "[Double-click to enter your responses here.]"
   ]
  },
  {
   "cell_type": "markdown",
   "metadata": {
    "id": "ZDG9v-NCS69j"
   },
   "source": [
    "## Step 3. Model Building, Step 4. Results and Evaluation\n",
    "- Fit a model that predicts the outcome variable using two or more independent variables\n",
    "- Check model assumptions\n",
    "- Evaluate the model"
   ]
  },
  {
   "cell_type": "markdown",
   "metadata": {
    "id": "QxCXjdpSaB8A"
   },
   "source": [
    "### Identify the type of prediction task."
   ]
  },
  {
   "cell_type": "markdown",
   "metadata": {
    "id": "YcCoHhnKcEov"
   },
   "source": [
    "[Double-click to enter your responses here.]"
   ]
  },
  {
   "cell_type": "markdown",
   "metadata": {
    "id": "yeUlo3W0ais-"
   },
   "source": [
    "### Identify the types of models most appropriate for this task."
   ]
  },
  {
   "cell_type": "markdown",
   "metadata": {
    "id": "A0Mo6f9tOchC"
   },
   "source": [
    "[Double-click to enter your responses here.]"
   ]
  },
  {
   "cell_type": "markdown",
   "metadata": {
    "id": "OrW2oXy4OfD1"
   },
   "source": [
    "### Modeling\n",
    "\n",
    "Add as many cells as you need to conduct the modeling process."
   ]
  },
  {
   "cell_type": "code",
   "execution_count": 56,
   "metadata": {
    "id": "UePZZyi_Okdz"
   },
   "outputs": [
    {
     "name": "stdout",
     "output_type": "stream",
     "text": [
      "Optimization terminated successfully.\n",
      "         Current function value: 0.369394\n",
      "         Iterations 7\n",
      "                           Logit Regression Results                           \n",
      "==============================================================================\n",
      "Dep. Variable:                   left   No. Observations:                 9592\n",
      "Model:                          Logit   Df Residuals:                     9582\n",
      "Method:                           MLE   Df Model:                            9\n",
      "Date:                Tue, 27 May 2025   Pseudo R-squ.:                  0.1775\n",
      "Time:                        11:46:46   Log-Likelihood:                -3543.2\n",
      "converged:                       True   LL-Null:                       -4307.8\n",
      "Covariance Type:            nonrobust   LLR p-value:                     0.000\n",
      "=========================================================================================\n",
      "                            coef    std err          z      P>|z|      [0.025      0.975]\n",
      "-----------------------------------------------------------------------------------------\n",
      "const                    -0.7154      0.198     -3.608      0.000      -1.104      -0.327\n",
      "satisfaction_level       -3.9372      0.133    -29.528      0.000      -4.199      -3.676\n",
      "last_evaluation           0.7226      0.198      3.653      0.000       0.335       1.110\n",
      "number_project           -0.2601      0.028     -9.150      0.000      -0.316      -0.204\n",
      "average_montly_hours      0.0037      0.001      5.453      0.000       0.002       0.005\n",
      "time_spend_company        0.2670      0.022     12.321      0.000       0.225       0.309\n",
      "work_accident            -1.3070      0.119    -10.984      0.000      -1.540      -1.074\n",
      "promotion_last_5years    -1.4792      0.382     -3.868      0.000      -2.229      -0.730\n",
      "department                0.0233      0.011      2.195      0.028       0.002       0.044\n",
      "salary                    0.0560      0.049      1.146      0.252      -0.040       0.152\n",
      "=========================================================================================\n",
      "[[1926   72]\n",
      " [ 325   76]]\n",
      "              precision    recall  f1-score   support\n",
      "\n",
      "           0       0.86      0.96      0.91      1998\n",
      "           1       0.51      0.19      0.28       401\n",
      "\n",
      "    accuracy                           0.83      2399\n",
      "   macro avg       0.68      0.58      0.59      2399\n",
      "weighted avg       0.80      0.83      0.80      2399\n",
      "\n"
     ]
    }
   ],
   "source": [
    "#_shaunak_machine_learning_holdout_methood_for_train_test_split\n",
    "from sklearn.model_selection import train_test_split\n",
    "from sklearn.linear_model import LogisticRegression\n",
    "from sklearn.preprocessing import LabelEncoder\n",
    "from sklearn.metrics import classification_report, confusion_matrix\n",
    "\n",
    "# Encode categorical features\n",
    "df_model = df_cleaned.copy()\n",
    "df_model['salary'] = LabelEncoder().fit_transform(df_model['salary'])\n",
    "df_model['department'] = LabelEncoder().fit_transform(df_model['department'])\n",
    "\n",
    "# Define features and target\n",
    "X = df_model.drop('left', axis=1)\n",
    "y = df_model['left']\n",
    "\n",
    "# Split into training and testing\n",
    "X_train, X_test, y_train, y_test = train_test_split(X, y, test_size=0.2, random_state=42)\n",
    "\n",
    "# Train logistic regression model\n",
    "log_model = LogisticRegression(max_iter=1000)\n",
    "log_model.fit(X_train, y_train)\n",
    "\n",
    "import statsmodels.api as sm\n",
    "X_const = sm.add_constant(X_train)\n",
    "logit_model = sm.Logit(y_train, X_const)\n",
    "result = logit_model.fit()\n",
    "print(result.summary())\n",
    "\n",
    "# Predict and evaluate\n",
    "y_pred = log_model.predict(X_test)\n",
    "print(confusion_matrix(y_test, y_pred))\n",
    "print(classification_report(y_test, y_pred))\n",
    "\n",
    "from sklearn.metrics import accuracy_score, precision_score, recall_score, f1_score, roc_auc_score, confusion_matrix\n",
    "\n",
    "y_pred = log_model.predict(X_test)\n",
    "y_proba = log_model.predict_proba(X_test)[:,1]\n"
   ]
  },
  {
   "cell_type": "code",
   "execution_count": 57,
   "metadata": {},
   "outputs": [
    {
     "name": "stdout",
     "output_type": "stream",
     "text": [
      "Accuracy: 0.8345\n",
      "Precision: 0.5135\n",
      "Recall: 0.1895\n",
      "F1 Score: 0.2769\n",
      "ROC AUC: 0.8312\n",
      "Confusion Matrix:\n",
      " [[1926   72]\n",
      " [ 325   76]]\n"
     ]
    },
    {
     "data": {
      "image/png": "[encoded data removed]",
      "text/plain": [
       "<Figure size 432x288 with 1 Axes>"
      ]
     },
     "metadata": {
      "needs_background": "light"
     },
     "output_type": "display_data"
    }
   ],
   "source": [
    "#_shaunak_machine_learning_classification__final_result\n",
    "print(\"Accuracy:\", format(accuracy_score(y_test, y_pred), '.4g'))\n",
    "print(\"Precision:\", format(precision_score(y_test, y_pred), '.4g'))\n",
    "print(\"Recall:\", format(recall_score(y_test, y_pred), '.4g'))\n",
    "print(\"F1 Score:\", format(f1_score(y_test, y_pred), '.4g'))\n",
    "print(\"ROC AUC:\", format(roc_auc_score(y_test, y_proba), '.4g'))\n",
    "print(\"Confusion Matrix:\\n\", confusion_matrix(y_test, y_pred))\n",
    "\n",
    "#_shaunak_machine_learning_roc_plot\n",
    "from sklearn.metrics import roc_curve\n",
    "fpr, tpr, _ = roc_curve(y_test, y_proba)\n",
    "plt.plot(fpr, tpr, label='Logistic Regression (AUC = %0.2f)' % roc_auc_score(y_test, y_proba))\n",
    "plt.plot([0, 1], [0, 1], 'k--')\n",
    "plt.xlabel('False Positive Rate')\n",
    "plt.ylabel('True Positive Rate')\n",
    "plt.title('ROC Curve')\n",
    "plt.legend()\n",
    "plt.show()"
   ]
  },
  {
   "cell_type": "markdown",
   "metadata": {
    "id": "401PgchTPr4E"
   },
   "source": [
    "# pacE: Execute Stage\n",
    "- Interpret model performance and results\n",
    "- Share actionable steps with stakeholders\n",
    "\n"
   ]
  },
  {
   "cell_type": "markdown",
   "metadata": {
    "id": "ex8pgn5iNzau"
   },
   "source": [
    "✏\n",
    "## Recall evaluation metrics\n",
    "\n",
    "- **AUC** is the area under the ROC curve; it's also considered the probability that the model ranks a random positive example more highly than a random negative example.\n",
    "- **Precision** measures the proportion of data points predicted as True that are actually True, in other words, the proportion of positive predictions that are true positives.\n",
    "- **Recall** measures the proportion of data points that are predicted as True, out of all the data points that are actually True. In other words, it measures the proportion of positives that are correctly classified.\n",
    "- **Accuracy** measures the proportion of data points that are correctly classified.\n",
    "- **F1-score** is an aggregation of precision and recall.\n",
    "\n",
    "\n",
    "\n",
    "\n"
   ]
  },
  {
   "cell_type": "markdown",
   "metadata": {
    "id": "OJ7Sn8--C45C"
   },
   "source": [
    "💭\n",
    "### Reflect on these questions as you complete the executing stage.\n",
    "\n",
    "- What key insights emerged from your model(s)?\n",
    "- What business recommendations do you propose based on the models built?\n",
    "- What potential recommendations would you make to your manager/company?\n",
    "- Do you think your model could be improved? Why or why not? How?\n",
    "- Given what you know about the data and the models you were using, what other questions could you address for the team?\n",
    "- What resources do you find yourself using as you complete this stage? (Make sure to include the links.)\n",
    "- Do you have any ethical considerations in this stage?\n",
    "\n"
   ]
  },
  {
   "cell_type": "markdown",
   "metadata": {
    "id": "aF1C4CBhLXbN"
   },
   "source": [
    "Key insight is that satisfaction level is the strongest negative predictor of attrition (high satisfaction → low attrition).\n",
    "\n",
    "The model performs well on predicting those who stayed (precision: 86%), but poorly on those who left (recall: 19%).\n",
    "Work accidents and promotions significantly reduce attrition risk, while long tenure and high hours increase it.\n",
    "Next Step: Consider oversampling techniques (e.g., SMOTE) or switching to ensemble models (e.g., Random Forest) to improve recall.\n",
    "Recommend to managers to focus on retention strategies for high-risk groups identified by the model, especially in sales and technical.\n",
    "Model Improvement you can try Random Forest, XGBoost if they provide enhanced accuracy.\n",
    "Further Questions:What factors most influence promotion and job satisfaction across departments?\n",
    "Resources Used: Scikit-learn, Pandas, Seaborn, Kaggle so far and the AI tools to correct my syntax errors.\n",
    "Ethical Considerations are fairness, avoiding biasedness and privacy issues for employees."
   ]
  },
  {
   "cell_type": "markdown",
   "metadata": {
    "id": "6pBUk35yTDaL"
   },
   "source": [
    "## Step 4. Results and Evaluation\n",
    "- Interpret model\n",
    "- Evaluate model performance using metrics\n",
    "- Prepare results, visualizations, and actionable steps to share with stakeholders\n",
    "\n",
    "\n"
   ]
  },
  {
   "cell_type": "markdown",
   "metadata": {
    "id": "GXrsxT498Z7h"
   },
   "source": [
    "### Summary of model results\n",
    "\n",
    "Accuracy: 0.8345143809920801\n",
    "Precision: 0.5135135135135135\n",
    "Recall: 0.18952618453865336\n",
    "F1 Score: 0.2768670309653916\n",
    "ROC AUC: 0.8312115107626331\n",
    "Confusion Matrix:\n",
    " [[1926   72]\n",
    " [ 325   76]]"
   ]
  },
  {
   "cell_type": "markdown",
   "metadata": {
    "id": "9MOMqelNLn2v"
   },
   "source": [
    "### Conclusion, Recommendations, Next Steps\n",
    "\n",
    "The logistic regression model that I used identified key drivers of employee attrition, with satisfaction level being the most significant factor reducing turnover risk; however, the model shows limitations in accurately predicting all employees who leave, indicating room for improvement. Recommendation is to improve employee engagement and workload management. Strengthen promotion policy to retain talent. Target specific departments as mentioned above. Implement early warning system and proactive approach. Update regularly. Next step for a data scientist here like me, could be to use any enhanced model to address class imbalance issues. "
   ]
  },
  {
   "cell_type": "markdown",
   "metadata": {},
   "source": [
    "**Congratulations!** You've completed this lab. However, you may not notice a green check mark next to this item on Coursera's platform. Please continue your progress regardless of the check mark. Just click on the \"save\" icon at the top of this notebook to ensure your work has been logged."
   ]
  }
 ],
 "metadata": {
  "colab": {
   "provenance": []
  },
  "gpuClass": "standard",
  "kernelspec": {
   "display_name": "Python 3",
   "language": "python",
   "name": "python3"
  },
  "language_info": {
   "codemirror_mode": {
    "name": "ipython",
    "version": 3
   },
   "file_extension": ".py",
   "mimetype": "text/x-python",
   "name": "python",
   "nbconvert_exporter": "python",
   "pygments_lexer": "ipython3",
   "version": "3.7.6"
  }
 },
 "nbformat": 4,
 "nbformat_minor": 1
}
